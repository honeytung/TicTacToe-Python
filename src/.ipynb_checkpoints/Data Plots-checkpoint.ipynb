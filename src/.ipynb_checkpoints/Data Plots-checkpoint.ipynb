{
 "cells": [
  {
   "cell_type": "markdown",
   "id": "d3742a29",
   "metadata": {},
   "source": [
    "# Data Plots"
   ]
  },
  {
   "cell_type": "code",
   "execution_count": 62,
   "id": "77cd3014",
   "metadata": {},
   "outputs": [
    {
     "data": {
      "text/html": [
       "<div>\n",
       "<style scoped>\n",
       "    .dataframe tbody tr th:only-of-type {\n",
       "        vertical-align: middle;\n",
       "    }\n",
       "\n",
       "    .dataframe tbody tr th {\n",
       "        vertical-align: top;\n",
       "    }\n",
       "\n",
       "    .dataframe thead th {\n",
       "        text-align: right;\n",
       "    }\n",
       "</style>\n",
       "<table border=\"1\" class=\"dataframe\">\n",
       "  <thead>\n",
       "    <tr style=\"text-align: right;\">\n",
       "      <th></th>\n",
       "      <th>Game ID</th>\n",
       "      <th>Player 1</th>\n",
       "      <th>Player 2</th>\n",
       "      <th>Player 1 Type</th>\n",
       "      <th>Player 2 Type</th>\n",
       "      <th>Winner</th>\n",
       "    </tr>\n",
       "  </thead>\n",
       "  <tbody>\n",
       "    <tr>\n",
       "      <th>0</th>\n",
       "      <td>1</td>\n",
       "      <td>Bot 1</td>\n",
       "      <td>Bot 2</td>\n",
       "      <td>Bot</td>\n",
       "      <td>Bot</td>\n",
       "      <td>Bot 1</td>\n",
       "    </tr>\n",
       "    <tr>\n",
       "      <th>1</th>\n",
       "      <td>2</td>\n",
       "      <td>Bot 1</td>\n",
       "      <td>Bot 2</td>\n",
       "      <td>Bot</td>\n",
       "      <td>Bot</td>\n",
       "      <td>Bot 1</td>\n",
       "    </tr>\n",
       "    <tr>\n",
       "      <th>2</th>\n",
       "      <td>3</td>\n",
       "      <td>Harry</td>\n",
       "      <td>Bot 2</td>\n",
       "      <td>Human</td>\n",
       "      <td>Bot</td>\n",
       "      <td>Harry</td>\n",
       "    </tr>\n",
       "    <tr>\n",
       "      <th>3</th>\n",
       "      <td>4</td>\n",
       "      <td>Harry</td>\n",
       "      <td>Jason</td>\n",
       "      <td>Human</td>\n",
       "      <td>Human</td>\n",
       "      <td>Harry</td>\n",
       "    </tr>\n",
       "    <tr>\n",
       "      <th>4</th>\n",
       "      <td>5</td>\n",
       "      <td>Jack</td>\n",
       "      <td>Jason</td>\n",
       "      <td>Human</td>\n",
       "      <td>Human</td>\n",
       "      <td>Jack</td>\n",
       "    </tr>\n",
       "    <tr>\n",
       "      <th>5</th>\n",
       "      <td>6</td>\n",
       "      <td>Jason</td>\n",
       "      <td>Jack</td>\n",
       "      <td>Human</td>\n",
       "      <td>Human</td>\n",
       "      <td>Jack</td>\n",
       "    </tr>\n",
       "    <tr>\n",
       "      <th>6</th>\n",
       "      <td>7</td>\n",
       "      <td>Jason</td>\n",
       "      <td>Bot 2</td>\n",
       "      <td>Human</td>\n",
       "      <td>Bot</td>\n",
       "      <td>Jason</td>\n",
       "    </tr>\n",
       "    <tr>\n",
       "      <th>7</th>\n",
       "      <td>8</td>\n",
       "      <td>Jack</td>\n",
       "      <td>Bot 2</td>\n",
       "      <td>Human</td>\n",
       "      <td>Bot</td>\n",
       "      <td>Bot 2</td>\n",
       "    </tr>\n",
       "    <tr>\n",
       "      <th>8</th>\n",
       "      <td>9</td>\n",
       "      <td>Bot 1</td>\n",
       "      <td>Bot 2</td>\n",
       "      <td>Bot</td>\n",
       "      <td>Bot</td>\n",
       "      <td>Bot 1</td>\n",
       "    </tr>\n",
       "    <tr>\n",
       "      <th>9</th>\n",
       "      <td>10</td>\n",
       "      <td>Jack</td>\n",
       "      <td>Harry</td>\n",
       "      <td>Human</td>\n",
       "      <td>Human</td>\n",
       "      <td>Harry</td>\n",
       "    </tr>\n",
       "    <tr>\n",
       "      <th>10</th>\n",
       "      <td>11</td>\n",
       "      <td>Jason</td>\n",
       "      <td>Jack</td>\n",
       "      <td>Human</td>\n",
       "      <td>Human</td>\n",
       "      <td>Jason</td>\n",
       "    </tr>\n",
       "    <tr>\n",
       "      <th>11</th>\n",
       "      <td>12</td>\n",
       "      <td>Jones</td>\n",
       "      <td>Jason</td>\n",
       "      <td>Human</td>\n",
       "      <td>Human</td>\n",
       "      <td>Draw</td>\n",
       "    </tr>\n",
       "    <tr>\n",
       "      <th>12</th>\n",
       "      <td>13</td>\n",
       "      <td>Jason</td>\n",
       "      <td>Bot 2</td>\n",
       "      <td>Human</td>\n",
       "      <td>Bot</td>\n",
       "      <td>Bot 2</td>\n",
       "    </tr>\n",
       "    <tr>\n",
       "      <th>13</th>\n",
       "      <td>14</td>\n",
       "      <td>Jack</td>\n",
       "      <td>Bot 2</td>\n",
       "      <td>Human</td>\n",
       "      <td>Bot</td>\n",
       "      <td>Bot 2</td>\n",
       "    </tr>\n",
       "  </tbody>\n",
       "</table>\n",
       "</div>"
      ],
      "text/plain": [
       "    Game ID Player 1 Player 2 Player 1 Type Player 2 Type Winner\n",
       "0         1    Bot 1    Bot 2           Bot           Bot  Bot 1\n",
       "1         2    Bot 1    Bot 2           Bot           Bot  Bot 1\n",
       "2         3    Harry    Bot 2         Human           Bot  Harry\n",
       "3         4    Harry    Jason         Human         Human  Harry\n",
       "4         5     Jack    Jason         Human         Human   Jack\n",
       "5         6    Jason     Jack         Human         Human   Jack\n",
       "6         7    Jason    Bot 2         Human           Bot  Jason\n",
       "7         8     Jack    Bot 2         Human           Bot  Bot 2\n",
       "8         9    Bot 1    Bot 2           Bot           Bot  Bot 1\n",
       "9        10     Jack    Harry         Human         Human  Harry\n",
       "10       11    Jason     Jack         Human         Human  Jason\n",
       "11       12    Jones    Jason         Human         Human   Draw\n",
       "12       13    Jason    Bot 2         Human           Bot  Bot 2\n",
       "13       14     Jack    Bot 2         Human           Bot  Bot 2"
      ]
     },
     "execution_count": 62,
     "metadata": {},
     "output_type": "execute_result"
    }
   ],
   "source": [
    "import pandas as pd\n",
    "import numpy as np\n",
    "\n",
    "filename = 'GameSave.csv'\n",
    "\n",
    "try:\n",
    "    games = pd.read_csv(filename, index_col=0)\n",
    "except FileNotFoundError:\n",
    "    games = pd.DataFrame(columns=[\n",
    "        \"Game ID\",\n",
    "        \"Player 1\",\n",
    "        \"Player 2\",\n",
    "        \"Player 1 Type\",\n",
    "        \"Player 2 Type\",\n",
    "        \"Winner\",\n",
    "])\n",
    "\n",
    "games"
   ]
  },
  {
   "cell_type": "markdown",
   "id": "110b30ae",
   "metadata": {},
   "source": [
    "## Plot 1: Win Rate for Bots\n",
    "\n",
    "From the graph, we can see that the winning rate for Bot 1 is significantly higher than Bot 2."
   ]
  },
  {
   "cell_type": "code",
   "execution_count": 70,
   "id": "580a5ba3",
   "metadata": {},
   "outputs": [
    {
     "name": "stdout",
     "output_type": "stream",
     "text": [
      "  Player  Win Rate\n",
      "0  Bot 1  0.500000\n",
      "1  Bot 2  0.272727\n"
     ]
    },
    {
     "data": {
      "text/plain": [
       "<AxesSubplot:>"
      ]
     },
     "execution_count": 70,
     "metadata": {},
     "output_type": "execute_result"
    },
    {
     "data": {
      "image/png": "[encoded data removed]",
      "text/plain": [
       "<Figure size 432x288 with 1 Axes>"
      ]
     },
     "metadata": {
      "needs_background": "light"
     },
     "output_type": "display_data"
    }
   ],
   "source": [
    "check_bot = games[['Player 1', 'Player 2', 'Winner']]\n",
    "check_bot_1 = check_bot.loc[(check_bot['Player 1'] == 'Bot 1') | (check_bot['Player 2'] == 'Bot 1')]\n",
    "check_bot_2 = check_bot.loc[(check_bot['Player 1'] == 'Bot 2') | (check_bot['Player 2'] == 'Bot 2')]\n",
    "\n",
    "check_bot_1 = check_bot_1.replace('Bot 1', 1)\n",
    "check_bot_1 = check_bot_1.replace('Bot 2', 2)\n",
    "check_bot_2 = check_bot_2.replace('Bot 1', 1)\n",
    "check_bot_2 = check_bot_2.replace('Bot 2', 2)\n",
    "\n",
    "check_bot_1_winner = check_bot_1[check_bot_1['Winner'] == 1]\n",
    "check_bot_2_winner = check_bot_2[check_bot_2['Winner'] == 2]\n",
    "\n",
    "check_bot_1_winner_rate = len(check_bot_1_winner) / (len(check_bot_1) + len(check_bot_1_winner))\n",
    "check_bot_2_winner_rate = len(check_bot_2_winner) / (len(check_bot_2) + len(check_bot_2_winner))\n",
    "\n",
    "check_bot_rate = pd.DataFrame(columns=[\n",
    "    'Player',\n",
    "    'Win Rate',\n",
    "])\n",
    "\n",
    "check_bot_rate.loc[len(check_bot_rate)] = {\n",
    "    'Player': 'Bot 1',\n",
    "    'Win Rate': check_bot_1_winner_rate,\n",
    "}\n",
    "\n",
    "check_bot_rate.loc[len(check_bot_rate)] = {\n",
    "    'Player': 'Bot 2',\n",
    "    'Win Rate': check_bot_2_winner_rate,\n",
    "}\n",
    "\n",
    "print(check_bot_rate)\n",
    "\n",
    "check_bot_rate.plot(kind='bar')"
   ]
  },
  {
   "cell_type": "markdown",
   "id": "8801b307",
   "metadata": {},
   "source": [
    "## Plot 2: Number of Wins and Draws\n",
    "The graph shows the number of wins (game that has a winner) and number of draws."
   ]
  },
  {
   "cell_type": "code",
   "execution_count": 68,
   "id": "0fbde431",
   "metadata": {},
   "outputs": [
    {
     "name": "stdout",
     "output_type": "stream",
     "text": [
      "  Result  Numbers\n",
      "0    Win       13\n",
      "1  Draws        1\n"
     ]
    },
    {
     "data": {
      "text/plain": [
       "<AxesSubplot:>"
      ]
     },
     "execution_count": 68,
     "metadata": {},
     "output_type": "execute_result"
    },
    {
     "data": {
      "image/png": "[encoded data removed]",
      "text/plain": [
       "<Figure size 432x288 with 1 Axes>"
      ]
     },
     "metadata": {
      "needs_background": "light"
     },
     "output_type": "display_data"
    }
   ],
   "source": [
    "win_or_draw = pd.DataFrame(columns=[\n",
    "    'Result',\n",
    "    'Numbers',\n",
    "])\n",
    "\n",
    "number_wins = len(games[games['Winner'] != 'Draw'])\n",
    "number_draws = len(games[games['Winner'] == 'Draw'])\n",
    "\n",
    "win_or_draw.loc[len(win_or_draw)] = {\n",
    "    'Result': 'Win',\n",
    "    'Numbers': number_wins,\n",
    "}\n",
    "\n",
    "win_or_draw.loc[len(win_or_draw)] = {\n",
    "    'Result': 'Draws',\n",
    "    'Numbers': number_draws,\n",
    "}\n",
    "\n",
    "print(win_or_draw)\n",
    "\n",
    "win_or_draw.plot(kind='bar')"
   ]
  },
  {
   "cell_type": "markdown",
   "id": "eb05568b",
   "metadata": {},
   "source": [
    "## Plot 3: Win rate for Human against Bots\n",
    "The graphs shows the win rate for each human against bots"
   ]
  },
  {
   "cell_type": "code",
   "execution_count": 69,
   "id": "b877f5f2",
   "metadata": {},
   "outputs": [
    {
     "name": "stdout",
     "output_type": "stream",
     "text": [
      "  Player  Win Rate\n",
      "0  Harry       1.0\n",
      "1  Jason       0.5\n",
      "2   Jack       0.0\n"
     ]
    },
    {
     "data": {
      "text/plain": [
       "<AxesSubplot:>"
      ]
     },
     "execution_count": 69,
     "metadata": {},
     "output_type": "execute_result"
    },
    {
     "data": {
      "image/png": "[encoded data removed]",
      "text/plain": [
       "<Figure size 432x288 with 1 Axes>"
      ]
     },
     "metadata": {
      "needs_background": "light"
     },
     "output_type": "display_data"
    }
   ],
   "source": [
    "bot_games = games.loc[(games['Player 1'] != 'Bot 1') & (games['Player 2'] == 'Bot 2')]\n",
    "unique_players = bot_games['Player 1'].unique()\n",
    "\n",
    "win_rates = pd.DataFrame(columns=[\n",
    "    'Player',\n",
    "    'Win Rate',\n",
    "])\n",
    "\n",
    "for player in unique_players:\n",
    "    player_games = bot_games[bot_games['Player 1'] == player]\n",
    "    number_of_games = len(player_games)\n",
    "    win_games = len(player_games[player_games['Winner'] == player])\n",
    "    lose_games = len(player_games[player_games['Winner'] == 'Bot 2'])\n",
    "    \n",
    "    win_rate = win_games / max(1, (win_games + lose_games))\n",
    "    \n",
    "    win_rates.loc[len(win_rates)] = {\n",
    "        'Player': player,\n",
    "        'Win Rate': win_rate,\n",
    "    }\n",
    "    \n",
    "print(win_rates)\n",
    "    \n",
    "win_rates.plot(kind='bar')"
   ]
  },
  {
   "cell_type": "code",
   "execution_count": null,
   "id": "5b119bdb",
   "metadata": {},
   "outputs": [],
   "source": []
  }
 ],
 "metadata": {
  "kernelspec": {
   "display_name": "Python 3 (ipykernel)",
   "language": "python",
   "name": "python3"
  },
  "language_info": {
   "codemirror_mode": {
    "name": "ipython",
    "version": 3
   },
   "file_extension": ".py",
   "mimetype": "text/x-python",
   "name": "python",
   "nbconvert_exporter": "python",
   "pygments_lexer": "ipython3",
   "version": "3.9.12"
  }
 },
 "nbformat": 4,
 "nbformat_minor": 5
}
